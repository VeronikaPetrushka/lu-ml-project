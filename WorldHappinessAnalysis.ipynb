{
 "cells": [
  {
   "cell_type": "code",
   "execution_count": null,
   "metadata": {},
   "outputs": [],
   "source": [
    "# DATA ANALYSIS"
   ]
  },
  {
   "cell_type": "code",
   "execution_count": 11,
   "metadata": {},
   "outputs": [],
   "source": [
    "import pandas as pd"
   ]
  },
  {
   "cell_type": "code",
   "execution_count": 12,
   "metadata": {},
   "outputs": [
    {
     "name": "stdout",
     "output_type": "stream",
     "text": [
      "     Country name  year  Life Ladder  Log GDP per capita  Social support  \\\n",
      "0     Afghanistan  2008        3.724               7.350           0.451   \n",
      "1     Afghanistan  2009        4.402               7.509           0.552   \n",
      "2     Afghanistan  2010        4.758               7.614           0.539   \n",
      "3     Afghanistan  2011        3.832               7.581           0.521   \n",
      "4     Afghanistan  2012        3.783               7.661           0.521   \n",
      "...           ...   ...          ...                 ...             ...   \n",
      "2358     Zimbabwe  2019        2.694               7.698           0.759   \n",
      "2359     Zimbabwe  2020        3.160               7.596           0.717   \n",
      "2360     Zimbabwe  2021        3.155               7.657           0.685   \n",
      "2361     Zimbabwe  2022        3.296               7.670           0.666   \n",
      "2362     Zimbabwe  2023        3.572               7.679           0.694   \n",
      "\n",
      "      Healthy life expectancy at birth  Freedom to make life choices  \\\n",
      "0                               50.500                         0.718   \n",
      "1                               50.800                         0.679   \n",
      "2                               51.100                         0.600   \n",
      "3                               51.400                         0.496   \n",
      "4                               51.700                         0.531   \n",
      "...                                ...                           ...   \n",
      "2358                            53.100                         0.632   \n",
      "2359                            53.575                         0.643   \n",
      "2360                            54.050                         0.668   \n",
      "2361                            54.525                         0.652   \n",
      "2362                            55.000                         0.735   \n",
      "\n",
      "      Generosity  Perceptions of corruption  Positive affect  Negative affect  \n",
      "0          0.164                      0.882            0.414            0.258  \n",
      "1          0.187                      0.850            0.481            0.237  \n",
      "2          0.118                      0.707            0.517            0.275  \n",
      "3          0.160                      0.731            0.480            0.267  \n",
      "4          0.234                      0.776            0.614            0.268  \n",
      "...          ...                        ...              ...              ...  \n",
      "2358      -0.051                      0.831            0.658            0.235  \n",
      "2359       0.003                      0.789            0.661            0.346  \n",
      "2360      -0.079                      0.757            0.610            0.242  \n",
      "2361      -0.073                      0.753            0.641            0.191  \n",
      "2362      -0.069                      0.757            0.610            0.179  \n",
      "\n",
      "[2097 rows x 11 columns]\n",
      "\n",
      "Data shape: (2097, 11)\n",
      "\n",
      "Data shape: Country name                         object\n",
      "year                                  int64\n",
      "Life Ladder                         float64\n",
      "Log GDP per capita                  float64\n",
      "Social support                      float64\n",
      "Healthy life expectancy at birth    float64\n",
      "Freedom to make life choices        float64\n",
      "Generosity                          float64\n",
      "Perceptions of corruption           float64\n",
      "Positive affect                     float64\n",
      "Negative affect                     float64\n",
      "dtype: object\n"
     ]
    }
   ],
   "source": [
    "data = pd.read_csv('WorldHappiness.csv').dropna()\n",
    "print(data)\n",
    "print()\n",
    "print(f\"Data shape: {data.shape}\")\n",
    "print()\n",
    "print(f\"Data shape: {data.dtypes}\")"
   ]
  },
  {
   "cell_type": "markdown",
   "metadata": {},
   "source": [
    "Which countries or regions are the happiest in a particular factor ?\n",
    "\n",
    "- Economic factors:\n",
    "    Log GDP per capita\n",
    "- Social factors:\n",
    "    Social support\n",
    "    Generosity\n",
    "    Perceptions of corruption\n",
    "- Health Factors:\n",
    "    Healthy life expectancy at birth\n",
    "- Psychological and Emotional Factors:\n",
    "    Life Ladder\n",
    "    Positive affect\n",
    "    Negative affect\n",
    "- Autonomy and Freedom:\n",
    "    Freedom to make life choices"
   ]
  },
  {
   "cell_type": "markdown",
   "metadata": {},
   "source": [
    "We will be test our data based on the average values, so here are the generally accepted mean for required factors:\n",
    "\n",
    "Life Ladder: Around 5 to 6\n",
    "Log GDP per capita: Around 9 to 10\n",
    "Social Support: Around 0.8 to 0.9\n",
    "Healthy Life Expectancy at Birth: Around 60 to 70 years\n",
    "Freedom to Make Life Choices: Around 0.7 to 0.8\n",
    "Generosity: Around 0.2 to 0.3\n",
    "Perceptions of Corruption: Around 0.3 to 0.5\n",
    "Positive Affect: Around 0.6 to 0.7\n",
    "Negative Affect: Around 0.2 to 0.3"
   ]
  },
  {
   "cell_type": "code",
   "execution_count": 25,
   "metadata": {},
   "outputs": [
    {
     "name": "stdout",
     "output_type": "stream",
     "text": [
      "The country with the highest mean of Life Ladder is Denmark with a mean of 7.643.\n",
      "The country with the highest mean of Log GDP per capita is Luxembourg with a mean of 11.643.\n",
      "The country with the highest mean of Social support is Iceland with a mean of 0.978.\n",
      "The country with the highest mean of Healthy life expectancy at birth is Japan with a mean of 73.634.\n",
      "The country with the highest mean of Freedom to make life choices is Norway with a mean of 0.951.\n",
      "The country with the highest mean of Generosity is Myanmar with a mean of 0.603.\n",
      "The country with the highest mean of Perceptions of corruption is Romania with a mean of 0.945.\n",
      "The country with the highest mean of Positive affect is Panama with a mean of 0.822.\n",
      "The country with the highest mean of Negative affect is Iraq with a mean of 0.504.\n"
     ]
    }
   ],
   "source": [
    "for column in data.columns[2:]:\n",
    "    column_mean = data.groupby(\"Country name\")[column].mean()\n",
    "\n",
    "    country_with_highest_column_mean = column_mean.idxmax()\n",
    "    highest_column_mean = column_mean.max()\n",
    "\n",
    "    print(\n",
    "        f\"The country with the highest mean of {column} is {country_with_highest_column_mean} with a mean of {highest_column_mean:.3f}.\")"
   ]
  },
  {
   "cell_type": "markdown",
   "metadata": {},
   "source": [
    "Now we can compare and understand why these exact countries are the best performers in one or another happiness factor:\n",
    "\n",
    "Denmark has even higher average score of 7.6 for a Life Ladder than worldwidly accepted.\n",
    "Luxembourg robust its economy growth significantly and exceed the basic score by 1.6.\n",
    "Iceland have very good social support which is higher than in other countries.\n",
    "Japan is known as a high-tech development country as well as high-quality healthcare provider, that`s why average life expectancy is really high and is about 73 years.\n",
    "Norway's exceptionally high mean for \"Freedom to make life choices\" of 0.951 can be attributed to a sense of autonomy and empowerment among its citizens.\n",
    "Myanmar's high average generosity is a reflection of the country's significant religious and cultural emphasis on altruism and communal support, which is frequently connected to Buddhist traditions.\n",
    "Romania's high average of views of corruption suggests that the public is generally aware of and concerned about corruption in public institutions and the government, which has an effect on governance and confidence.\n",
    " Panama's thriving culture, social connectivity, and generally upbeat mood among its people are the main reasons for the country's high mean positive affect.\n",
    "Iraq's high mean negative affect is a reflection of the country's population's recent decades-long stress, aggression, and instability."
   ]
  },
  {
   "cell_type": "markdown",
   "metadata": {},
   "source": [
    "What is the happiest country in each group of factors ?"
   ]
  },
  {
   "cell_type": "code",
   "execution_count": 14,
   "metadata": {},
   "outputs": [
    {
     "name": "stdout",
     "output_type": "stream",
     "text": [
      "The happiest country based on economic factors is Luxembourg with an average score of 11.643.\n"
     ]
    }
   ],
   "source": [
    "# ECONOMIC FACTORS\n",
    "\n",
    "country_mean = data.groupby(\"Country name\")[\n",
    "    \"Log GDP per capita\"].mean()\n",
    "\n",
    "happiest_country = country_mean.idxmax()\n",
    "happiest_country_total = country_mean.max()\n",
    "\n",
    "print(\n",
    "    f\"The happiest country based on economic factors is {happiest_country} with an average score of {happiest_country_total:.3f}.\")"
   ]
  },
  {
   "cell_type": "code",
   "execution_count": 24,
   "metadata": {},
   "outputs": [
    {
     "name": "stdout",
     "output_type": "stream",
     "text": [
      "The happiest country based on social factors is Thailand with an average of 0.720.\n"
     ]
    }
   ],
   "source": [
    "# SOCIAL FACTORS\n",
    "\n",
    "social_factors = [\"Social support\", \"Generosity\", \"Perceptions of corruption\"]\n",
    "\n",
    "country_mean = data.groupby(\"Country name\")[social_factors].mean()\n",
    "\n",
    "country_mean[\"mean\"] = country_mean.mean(axis=1)\n",
    "\n",
    "happiest_country = country_mean[\"mean\"].idxmax()\n",
    "happiest_country_mean = country_mean[\"mean\"].max()\n",
    "\n",
    "print(\n",
    "    f\"The happiest country based on social factors is {happiest_country} with an average of {happiest_country_mean:.3f}.\")"
   ]
  },
  {
   "cell_type": "markdown",
   "metadata": {},
   "source": [
    "Strong social support networks that offer a dependable network of family and community, along with a generous culture where actions of giving and assisting others are deeply ingrained, are responsible for Thailand's high levels of happiness. In addition, despite corruption problems, the Thai people's resilience, capacity for joy in everyday life, and participation in group events and festivities all add to their general contentment."
   ]
  },
  {
   "cell_type": "code",
   "execution_count": null,
   "metadata": {},
   "outputs": [],
   "source": [
    "# Optionally, print the detailed sums for each country\n",
    "print(\"\\nDetailed average for each country:\")\n",
    "print(country_mean)"
   ]
  },
  {
   "cell_type": "code",
   "execution_count": 16,
   "metadata": {},
   "outputs": [
    {
     "name": "stdout",
     "output_type": "stream",
     "text": [
      "The happiest country based on health factors is Japan with an average of 73.634.\n"
     ]
    }
   ],
   "source": [
    "# HEALTH FACTORS\n",
    "\n",
    "country_mean = data.groupby(\"Country name\")[\n",
    "    \"Healthy life expectancy at birth\"].mean()\n",
    "\n",
    "happiest_country = country_mean.idxmax()\n",
    "happiest_country_total = country_mean.max()\n",
    "\n",
    "print(\n",
    "    f\"The happiest country based on health factors is {happiest_country} with an average of {happiest_country_total:.3f}.\")"
   ]
  },
  {
   "cell_type": "code",
   "execution_count": 17,
   "metadata": {},
   "outputs": [
    {
     "name": "stdout",
     "output_type": "stream",
     "text": [
      "The happiest country based on psychological and emotional factors is Denmark with an average of 2.876.\n"
     ]
    }
   ],
   "source": [
    "# Psychological and Emotional Factors\n",
    "\n",
    "social_factors = [\"Life Ladder\", \"Positive affect\", \"Negative affect\"]\n",
    "\n",
    "country_mean = data.groupby(\"Country name\")[social_factors].mean()\n",
    "\n",
    "country_mean[\"Total\"] = country_mean.mean(axis=1)\n",
    "\n",
    "happiest_country = country_mean[\"Total\"].idxmax()\n",
    "happiest_country_total = country_mean[\"Total\"].max()\n",
    "\n",
    "print(\n",
    "    f\"The happiest country based on psychological and emotional factors is {happiest_country} with an average of {happiest_country_total:.3f}.\")"
   ]
  },
  {
   "cell_type": "markdown",
   "metadata": {},
   "source": [
    "Due to its strong \"Life Ladder\" score—which is a reflection of its good quality of life, strong social services, and stable economy—Denmark has the highest position in terms of happiness. The fact that Danes rarely feel negative emotions and frequently experience good ones adds to their general well-being. Additionally, high levels of \"Positive affect\" and low levels of \"Negative affect\" show this."
   ]
  },
  {
   "cell_type": "code",
   "execution_count": null,
   "metadata": {},
   "outputs": [],
   "source": [
    "# Optionally, print the detailed sums for each country\n",
    "print(\"\\nDetailed average for each country:\")\n",
    "print(country_mean)"
   ]
  },
  {
   "cell_type": "code",
   "execution_count": 18,
   "metadata": {},
   "outputs": [
    {
     "name": "stdout",
     "output_type": "stream",
     "text": [
      "The happiest country based on autonomy and freedom factors is Norway with an average score of 0.951.\n"
     ]
    }
   ],
   "source": [
    "# Autonomy and Freedom\n",
    "\n",
    "country_sums = data.groupby(\"Country name\")[\n",
    "    \"Freedom to make life choices\"].mean()\n",
    "\n",
    "happiest_country = country_sums.idxmax()\n",
    "happiest_country_total = country_sums.max()\n",
    "\n",
    "print(\n",
    "    f\"The happiest country based on autonomy and freedom factors is {happiest_country} with an average score of {happiest_country_total:.3f}.\")"
   ]
  },
  {
   "cell_type": "markdown",
   "metadata": {},
   "source": [
    "What is the happiest country ?"
   ]
  },
  {
   "cell_type": "code",
   "execution_count": 26,
   "metadata": {},
   "outputs": [
    {
     "name": "stdout",
     "output_type": "stream",
     "text": [
      "The happiest country is Iceland with an average of 10.446.\n",
      "\n",
      "Life Ladder: 7.461\n",
      "Log GDP per capita: 10.877\n",
      "Social support: 0.978\n",
      "Healthy life expectancy at birth: 71.852\n",
      "Freedom to make life choices: 0.927\n",
      "Generosity: 0.254\n",
      "Perceptions of corruption: 0.696\n",
      "Positive affect: 0.807\n",
      "Negative affect: 0.165\n"
     ]
    }
   ],
   "source": [
    "country_mean = data.groupby(\"Country name\")[data.columns[2:]].mean()\n",
    "\n",
    "country_mean['Average'] = country_mean.mean(axis=1)\n",
    "\n",
    "happiest_country = country_mean['Average'].idxmax()\n",
    "highest_total_sum = country_mean['Average'].max()\n",
    "\n",
    "happiest_country_mean = country_mean.loc[happiest_country, data.columns[2:]]\n",
    "\n",
    "print(\n",
    "    f\"The happiest country is {happiest_country} with an average of {highest_total_sum:.3f}.\")\n",
    "print()\n",
    "\n",
    "for column, value in happiest_country_mean.items():\n",
    "    print(f\"{column}: {value:.3f}\")"
   ]
  },
  {
   "cell_type": "markdown",
   "metadata": {},
   "source": [
    "Potential Causes of Happiness in Iceland\n",
    "\n",
    "Social support: Tight communities that place a high value on friendships and family make for strong social support networks.\n",
    "\n",
    "High Standard of Living: Access to first-rate healthcare, education, and other necessities is guaranteed by economic stability and a high GDP per capita.\n",
    "\n",
    "Good Governance: Effective public services and justice are ensured by low levels of corruption and high levels of trust in governmental institutions.\n",
    "\n",
    "Health & Well-Being: Long, healthy lives are the result of high life expectancy and quality healthcare services.\n",
    "\n",
    "Freedom and Autonomy: Encouraging individual autonomy and self-determination enables people to make meaningful life decisions.\n",
    "\n",
    "Natural Environment: Access to nature and outdoor activities improve well-being. Stunning scenery and a clean environment contribute to this.\n",
    "\n",
    "Cultural factors: Happiness as a whole is influenced by cultures that value innovation, resiliency, and balanced lifestyles.\n"
   ]
  }
 ],
 "metadata": {
  "kernelspec": {
   "display_name": "Python 3",
   "language": "python",
   "name": "python3"
  },
  "language_info": {
   "codemirror_mode": {
    "name": "ipython",
    "version": 3
   },
   "file_extension": ".py",
   "mimetype": "text/x-python",
   "name": "python",
   "nbconvert_exporter": "python",
   "pygments_lexer": "ipython3",
   "version": "3.11.5"
  }
 },
 "nbformat": 4,
 "nbformat_minor": 2
}
