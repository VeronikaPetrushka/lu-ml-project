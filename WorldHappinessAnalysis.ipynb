{
 "cells": [
  {
   "cell_type": "code",
   "execution_count": null,
   "metadata": {},
   "outputs": [],
   "source": [
    "# DATA ANALYSIS"
   ]
  },
  {
   "cell_type": "code",
   "execution_count": 30,
   "metadata": {},
   "outputs": [
    {
     "name": "stdout",
     "output_type": "stream",
     "text": [
      "Requirement already satisfied: seaborn in c:\\users\\ver0n\\miniconda3\\envs\\idm\\lib\\site-packages (0.13.2)\n",
      "Requirement already satisfied: numpy!=1.24.0,>=1.20 in c:\\users\\ver0n\\miniconda3\\envs\\idm\\lib\\site-packages (from seaborn) (1.26.0)\n",
      "Requirement already satisfied: pandas>=1.2 in c:\\users\\ver0n\\miniconda3\\envs\\idm\\lib\\site-packages (from seaborn) (2.1.3)\n",
      "Requirement already satisfied: matplotlib!=3.6.1,>=3.4 in c:\\users\\ver0n\\miniconda3\\envs\\idm\\lib\\site-packages (from seaborn) (3.8.1)\n",
      "Requirement already satisfied: contourpy>=1.0.1 in c:\\users\\ver0n\\miniconda3\\envs\\idm\\lib\\site-packages (from matplotlib!=3.6.1,>=3.4->seaborn) (1.2.0)\n",
      "Requirement already satisfied: cycler>=0.10 in c:\\users\\ver0n\\miniconda3\\envs\\idm\\lib\\site-packages (from matplotlib!=3.6.1,>=3.4->seaborn) (0.12.1)\n",
      "Requirement already satisfied: fonttools>=4.22.0 in c:\\users\\ver0n\\miniconda3\\envs\\idm\\lib\\site-packages (from matplotlib!=3.6.1,>=3.4->seaborn) (4.44.3)\n",
      "Requirement already satisfied: kiwisolver>=1.3.1 in c:\\users\\ver0n\\miniconda3\\envs\\idm\\lib\\site-packages (from matplotlib!=3.6.1,>=3.4->seaborn) (1.4.5)\n",
      "Requirement already satisfied: packaging>=20.0 in c:\\users\\ver0n\\miniconda3\\envs\\idm\\lib\\site-packages (from matplotlib!=3.6.1,>=3.4->seaborn) (23.2)\n",
      "Requirement already satisfied: pillow>=8 in c:\\users\\ver0n\\miniconda3\\envs\\idm\\lib\\site-packages (from matplotlib!=3.6.1,>=3.4->seaborn) (10.0.1)\n",
      "Requirement already satisfied: pyparsing>=2.3.1 in c:\\users\\ver0n\\miniconda3\\envs\\idm\\lib\\site-packages (from matplotlib!=3.6.1,>=3.4->seaborn) (3.1.1)\n",
      "Requirement already satisfied: python-dateutil>=2.7 in c:\\users\\ver0n\\miniconda3\\envs\\idm\\lib\\site-packages (from matplotlib!=3.6.1,>=3.4->seaborn) (2.8.2)\n",
      "Requirement already satisfied: pytz>=2020.1 in c:\\users\\ver0n\\miniconda3\\envs\\idm\\lib\\site-packages (from pandas>=1.2->seaborn) (2023.3.post1)\n",
      "Requirement already satisfied: tzdata>=2022.1 in c:\\users\\ver0n\\miniconda3\\envs\\idm\\lib\\site-packages (from pandas>=1.2->seaborn) (2023.3)\n",
      "Requirement already satisfied: six>=1.5 in c:\\users\\ver0n\\miniconda3\\envs\\idm\\lib\\site-packages (from python-dateutil>=2.7->matplotlib!=3.6.1,>=3.4->seaborn) (1.16.0)\n"
     ]
    }
   ],
   "source": [
    "import pandas as pd"
   ]
  },
  {
   "cell_type": "code",
   "execution_count": 2,
   "metadata": {},
   "outputs": [
    {
     "name": "stdout",
     "output_type": "stream",
     "text": [
      "     Country name  year  Life Ladder  Log GDP per capita  Social support  \\\n",
      "0     Afghanistan  2008        3.724               7.350           0.451   \n",
      "1     Afghanistan  2009        4.402               7.509           0.552   \n",
      "2     Afghanistan  2010        4.758               7.614           0.539   \n",
      "3     Afghanistan  2011        3.832               7.581           0.521   \n",
      "4     Afghanistan  2012        3.783               7.661           0.521   \n",
      "...           ...   ...          ...                 ...             ...   \n",
      "2358     Zimbabwe  2019        2.694               7.698           0.759   \n",
      "2359     Zimbabwe  2020        3.160               7.596           0.717   \n",
      "2360     Zimbabwe  2021        3.155               7.657           0.685   \n",
      "2361     Zimbabwe  2022        3.296               7.670           0.666   \n",
      "2362     Zimbabwe  2023        3.572               7.679           0.694   \n",
      "\n",
      "      Healthy life expectancy at birth  Freedom to make life choices  \\\n",
      "0                               50.500                         0.718   \n",
      "1                               50.800                         0.679   \n",
      "2                               51.100                         0.600   \n",
      "3                               51.400                         0.496   \n",
      "4                               51.700                         0.531   \n",
      "...                                ...                           ...   \n",
      "2358                            53.100                         0.632   \n",
      "2359                            53.575                         0.643   \n",
      "2360                            54.050                         0.668   \n",
      "2361                            54.525                         0.652   \n",
      "2362                            55.000                         0.735   \n",
      "\n",
      "      Generosity  Perceptions of corruption  Positive affect  Negative affect  \n",
      "0          0.164                      0.882            0.414            0.258  \n",
      "1          0.187                      0.850            0.481            0.237  \n",
      "2          0.118                      0.707            0.517            0.275  \n",
      "3          0.160                      0.731            0.480            0.267  \n",
      "4          0.234                      0.776            0.614            0.268  \n",
      "...          ...                        ...              ...              ...  \n",
      "2358      -0.051                      0.831            0.658            0.235  \n",
      "2359       0.003                      0.789            0.661            0.346  \n",
      "2360      -0.079                      0.757            0.610            0.242  \n",
      "2361      -0.073                      0.753            0.641            0.191  \n",
      "2362      -0.069                      0.757            0.610            0.179  \n",
      "\n",
      "[2363 rows x 11 columns]\n",
      "\n",
      "Data shape: (2363, 11)\n",
      "\n",
      "Data shape: Country name                         object\n",
      "year                                  int64\n",
      "Life Ladder                         float64\n",
      "Log GDP per capita                  float64\n",
      "Social support                      float64\n",
      "Healthy life expectancy at birth    float64\n",
      "Freedom to make life choices        float64\n",
      "Generosity                          float64\n",
      "Perceptions of corruption           float64\n",
      "Positive affect                     float64\n",
      "Negative affect                     float64\n",
      "dtype: object\n"
     ]
    }
   ],
   "source": [
    "data = pd.read_csv('WorldHappiness.csv')\n",
    "print(data)\n",
    "print()\n",
    "print(f\"Data shape: {data.shape}\")\n",
    "print()\n",
    "print(f\"Data shape: {data.dtypes}\")"
   ]
  },
  {
   "cell_type": "markdown",
   "metadata": {},
   "source": [
    "Which countries or regions are the happiest in a particular factor ?\n",
    "\n",
    "- Economic factors:\n",
    "    Log GDP per capita\n",
    "- Social factors:\n",
    "    Social support\n",
    "    Generosity\n",
    "    Perceptions of corruption\n",
    "- Health Factors:\n",
    "    Healthy life expectancy at birth\n",
    "- Psychological and Emotional Factors:\n",
    "    Life Ladder\n",
    "    Positive affect\n",
    "    Negative affect\n",
    "- Autonomy and Freedom:\n",
    "    Freedom to make life choices"
   ]
  },
  {
   "cell_type": "code",
   "execution_count": 26,
   "metadata": {},
   "outputs": [
    {
     "name": "stdout",
     "output_type": "stream",
     "text": [
      "The country with the highest mean of year is Gambia with a mean of 2019.800.\n",
      "The country with the highest mean of Life Ladder is Denmark with a mean of 7.664.\n",
      "The country with the highest mean of Log GDP per capita is Luxembourg with a mean of 11.643.\n",
      "The country with the highest mean of Social support is Iceland with a mean of 0.979.\n",
      "The country with the highest mean of Healthy life expectancy at birth is Japan with a mean of 73.543.\n",
      "The country with the highest mean of Freedom to make life choices is Norway with a mean of 0.951.\n",
      "The country with the highest mean of Generosity is Myanmar with a mean of 0.603.\n",
      "The country with the highest mean of Perceptions of corruption is Romania with a mean of 0.946.\n",
      "The country with the highest mean of Positive affect is Panama with a mean of 0.822.\n",
      "The country with the highest mean of Negative affect is Iraq with a mean of 0.507.\n"
     ]
    }
   ],
   "source": [
    "for column in data.columns[1:]:\n",
    "    column_mean = data.groupby(\"Country name\")[column].mean()\n",
    "\n",
    "    country_with_highest_column_mean = column_mean.idxmax()\n",
    "    highest_column_mean = column_mean.max()\n",
    "\n",
    "    print(\n",
    "        f\"The country with the highest mean of {column} is {country_with_highest_column_mean} with a mean of {highest_column_mean:.3f}.\")"
   ]
  },
  {
   "cell_type": "markdown",
   "metadata": {},
   "source": [
    "What is the happiest country in each group of factors ?"
   ]
  },
  {
   "cell_type": "code",
   "execution_count": 25,
   "metadata": {},
   "outputs": [
    {
     "name": "stdout",
     "output_type": "stream",
     "text": [
      "The happiest country based on economic factors is Luxembourg with an average score of 11.643.\n"
     ]
    }
   ],
   "source": [
    "# ECONOMIC FACTORS\n",
    "\n",
    "country_mean = data.groupby(\"Country name\")[\n",
    "    \"Log GDP per capita\"].mean()\n",
    "\n",
    "happiest_country = country_mean.idxmax()\n",
    "happiest_country_total = country_mean.max()\n",
    "\n",
    "print(\n",
    "    f\"The happiest country based on economic factors is {happiest_country} with an average score of {happiest_country_total:.3f}.\")"
   ]
  },
  {
   "cell_type": "code",
   "execution_count": 24,
   "metadata": {},
   "outputs": [
    {
     "name": "stdout",
     "output_type": "stream",
     "text": [
      "The happiest country based on social factors is Cuba with an average of 0.970.\n"
     ]
    }
   ],
   "source": [
    "# SOCIAL FACTORS\n",
    "\n",
    "social_factors = [\"Social support\", \"Generosity\", \"Perceptions of corruption\"]\n",
    "\n",
    "country_mean = data.groupby(\"Country name\")[social_factors].mean()\n",
    "\n",
    "country_mean[\"Total\"] = country_mean.mean(axis=1)\n",
    "\n",
    "happiest_country = country_mean[\"Total\"].idxmax()\n",
    "happiest_country_total = country_mean[\"Total\"].max()\n",
    "\n",
    "print(\n",
    "    f\"The happiest country based on social factors is {happiest_country} with an average of {happiest_country_total:.3f}.\")"
   ]
  },
  {
   "cell_type": "code",
   "execution_count": null,
   "metadata": {},
   "outputs": [],
   "source": [
    "# Optionally, print the detailed sums for each country\n",
    "print(\"\\nDetailed average for each country:\")\n",
    "print(country_mean)"
   ]
  },
  {
   "cell_type": "code",
   "execution_count": 23,
   "metadata": {},
   "outputs": [
    {
     "name": "stdout",
     "output_type": "stream",
     "text": [
      "The happiest country based on health factors is Japan with an average of 73.543.\n"
     ]
    }
   ],
   "source": [
    "# HEALTH FACTORS\n",
    "\n",
    "country_mean = data.groupby(\"Country name\")[\n",
    "    \"Healthy life expectancy at birth\"].mean()\n",
    "\n",
    "happiest_country = country_mean.idxmax()\n",
    "happiest_country_total = country_mean.max()\n",
    "\n",
    "print(\n",
    "    f\"The happiest country based on health factors is {happiest_country} with an average of {happiest_country_total:.3f}.\")"
   ]
  },
  {
   "cell_type": "code",
   "execution_count": 22,
   "metadata": {},
   "outputs": [
    {
     "name": "stdout",
     "output_type": "stream",
     "text": [
      "The happiest country based on psychological and emotional factors is Maldives with an average of 5.198.\n"
     ]
    }
   ],
   "source": [
    "# Psychological and Emotional Factors\n",
    "\n",
    "social_factors = [\"Life Ladder\", \"Positive affect\", \"Negative affect\"]\n",
    "\n",
    "country_mean = data.groupby(\"Country name\")[social_factors].mean()\n",
    "\n",
    "country_mean[\"Total\"] = country_mean.mean(axis=1)\n",
    "\n",
    "happiest_country = country_mean[\"Total\"].idxmax()\n",
    "happiest_country_total = country_mean[\"Total\"].max()\n",
    "\n",
    "print(\n",
    "    f\"The happiest country based on psychological and emotional factors is {happiest_country} with an average of {happiest_country_total:.3f}.\")"
   ]
  },
  {
   "cell_type": "code",
   "execution_count": null,
   "metadata": {},
   "outputs": [],
   "source": [
    "# Optionally, print the detailed sums for each country\n",
    "print(\"\\nDetailed average for each country:\")\n",
    "print(country_mean)"
   ]
  },
  {
   "cell_type": "code",
   "execution_count": 21,
   "metadata": {},
   "outputs": [
    {
     "name": "stdout",
     "output_type": "stream",
     "text": [
      "The happiest country based on autonomy and freedom factors is Norway with an average score of 0.951.\n"
     ]
    }
   ],
   "source": [
    "# Autonomy and Freedom\n",
    "\n",
    "country_sums = data.groupby(\"Country name\")[\n",
    "    \"Freedom to make life choices\"].mean()\n",
    "\n",
    "happiest_country = country_sums.idxmax()\n",
    "happiest_country_total = country_sums.max()\n",
    "\n",
    "print(\n",
    "    f\"The happiest country based on autonomy and freedom factors is {happiest_country} with an average score of {happiest_country_total:.3f}.\")"
   ]
  },
  {
   "cell_type": "markdown",
   "metadata": {},
   "source": [
    "What is the happiest country ?"
   ]
  },
  {
   "cell_type": "code",
   "execution_count": 27,
   "metadata": {},
   "outputs": [
    {
     "name": "stdout",
     "output_type": "stream",
     "text": [
      "The happiest country is Maldives with an average of 14.441.\n",
      "\n",
      "Life Ladder: 5.198\n",
      "Log GDP per capita: 9.893\n",
      "Social support: 0.913\n",
      "Healthy life expectancy at birth: 69.775\n",
      "Freedom to make life choices: 0.855\n",
      "Generosity: 0.013\n",
      "Perceptions of corruption: nan\n",
      "Positive affect: nan\n",
      "Negative affect: nan\n"
     ]
    }
   ],
   "source": [
    "country_mean = data.groupby(\"Country name\")[data.columns[2:]].mean()\n",
    "\n",
    "country_mean['Average'] = country_mean.mean(axis=1)\n",
    "\n",
    "happiest_country = country_mean['Average'].idxmax()\n",
    "highest_total_sum = country_mean['Average'].max()\n",
    "\n",
    "happiest_country_mean = country_mean.loc[happiest_country, data.columns[2:]]\n",
    "\n",
    "print(\n",
    "    f\"The happiest country is {happiest_country} with an average of {highest_total_sum:.3f}.\")\n",
    "print()\n",
    "\n",
    "for column, value in happiest_country_mean.items():\n",
    "    print(f\"{column}: {value:.3f}\")"
   ]
  },
  {
   "cell_type": "markdown",
   "metadata": {},
   "source": [
    "The research indicates that the Maldives is the happiest country because of its high averages in a number of important happiness metrics, including:\n",
    "\n",
    "Life Ladder: \n",
    "A comparatively high score of 5.198 denotes a high level of overall well-being among the populace.\n",
    "\n",
    "Log of GDP per person: \n",
    "a robust economy with an average score of 9.893, indicating a comparatively good standard of living.\n",
    "\n",
    "Social Support: \n",
    "High social networks and community support, which are essential for happiness, are indicated by an average score of 0.913.\n",
    "\n",
    "Expectancy of a Healthy Life at Birth: \n",
    "a high average age of 69.775 years, which is indicative of decent living and healthcare circumstances.\n",
    "\n",
    "Freedom to Choose in Life: \n",
    "a noteworthy degree of individual autonomy with an average score of 0.855.\n",
    "\n",
    "The Maldives is the happiest country in this dataset, despite the fact that the data for \"Perceptions of corruption,\" \"Positive affect,\" and \"Negative affect\" are lacking (NaN). This is due to the country's outstanding performance in the categories that are available. One possible explanation for this high rating is the lack of negative evidence, such as high opinions of corruption.\n"
   ]
  }
 ],
 "metadata": {
  "kernelspec": {
   "display_name": "Python 3",
   "language": "python",
   "name": "python3"
  },
  "language_info": {
   "codemirror_mode": {
    "name": "ipython",
    "version": 3
   },
   "file_extension": ".py",
   "mimetype": "text/x-python",
   "name": "python",
   "nbconvert_exporter": "python",
   "pygments_lexer": "ipython3",
   "version": "3.11.5"
  }
 },
 "nbformat": 4,
 "nbformat_minor": 2
}
